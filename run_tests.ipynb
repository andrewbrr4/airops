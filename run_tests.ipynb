{
 "cells": [
  {
   "cell_type": "code",
   "execution_count": 2,
   "id": "2bb3f9bc-1875-4fb4-83f0-f3e34fefe02d",
   "metadata": {
    "scrolled": true
   },
   "outputs": [],
   "source": [
    "import os\n",
    "import json\n",
    "from airops.defaults import make_chain, make_agent\n",
    "from airops import models, prompts, tools\n",
    "from pydantic import BaseModel, Field\n",
    "from typing import Dict, List, Any\n",
    "\n",
    "\n",
    "with open('./context/workflow_spec.md', 'r') as f:\n",
    "    WORKFLOW_SPEC = f.read()\n",
    "\n",
    "with open('./context/integration_actions.json', 'r') as f:\n",
    "    INTEGRATION_ACTIONS = sorted(json.load(f), key = lambda x: x['integration'])\n",
    "    for action in INTEGRATION_ACTIONS:\n",
    "        action[\"inputs_schema\"] = [field for field in action[\"inputs_schema\"] if field[\"interface\"] != \"integration\"]\n",
    "\n",
    "SAMPLE_WORKFLOW_CONTEXTS = []\n",
    "for file in os.listdir('./context/sample_workflows/'):\n",
    "    fp = os.path.join('./context/sample_workflows/', file)\n",
    "    with open(fp, 'r') as file:\n",
    "        SAMPLE_WORKFLOW_CONTEXTS.append(json.load(file))"
   ]
  },
  {
   "cell_type": "markdown",
   "id": "e7a02a3d-c4e1-4dfd-867c-8b2d9b5e573d",
   "metadata": {},
   "source": [
    "I do not understand what all of these integrations do and what fields are required and I don't need to. The agent/LLM is going to take care of that. All you need to do is generate relatively straightforward workflows, then ask an LLM to generate synthetic user requests for integrations that are applicable to the workflow. In the test case, you should include the desired integration selection for the input (use this for the evaluation).\n",
    "\n",
    "Question: how do I evaluate that the payload is correct?\n",
    "\n",
    "3 test steps:\n",
    "1. check that the chosen integration is correct (simple pass or fail)\n",
    "2. check that the payload matches the input schema for the integration (simple pass or fail)\n",
    "3. check that the choices for the payload values makes sense given the user's request (GEval)"
   ]
  },
  {
   "cell_type": "code",
   "execution_count": null,
   "id": "05912696-86ca-4bdd-a0b5-c7d6260d1976",
   "metadata": {},
   "outputs": [],
   "source": [
    "class TestCase(BaseModel):\n",
    "    user_request: str = Field(..., description=\"the synthetic user request that should trigger the integration action\")\n",
    "    expected_integration_action_payload: IntegrationActionPayload = Field(..., description=\"\"\"\n",
    "        the desired integration action and properly-formatted payload.\n",
    "    \"\"\")"
   ]
  },
  {
   "cell_type": "code",
   "execution_count": null,
   "id": "0562ac30-5de5-4d62-bcbd-266722fccaff",
   "metadata": {},
   "outputs": [],
   "source": [
    "def create_test_cases_from_context(context: Dict, num_requests: 5):\n",
    "    # use an agent to create test cases - the agent will research what each action does to understand it\n",
    "    ..."
   ]
  },
  {
   "cell_type": "code",
   "execution_count": 5,
   "id": "c2a42282-110a-444c-94b3-ea063e19e953",
   "metadata": {},
   "outputs": [
    {
     "name": "stdout",
     "output_type": "stream",
     "text": [
      "contentful\n",
      "contentful\n",
      "contentful\n",
      "contentful\n",
      "contentful\n",
      "gmail\n",
      "google_docs\n",
      "google_search_console\n",
      "google_search_console\n",
      "google_search_console\n",
      "google_search_console\n",
      "google_sheets\n",
      "notion\n",
      "notion\n",
      "notion\n",
      "slack\n",
      "strapi\n",
      "strapi\n",
      "strapi\n",
      "webflow\n",
      "webflow\n",
      "webflow\n",
      "webflow\n",
      "webflow\n",
      "webflow_oauth\n",
      "webflow_oauth\n",
      "webflow_oauth\n",
      "webflow_oauth\n",
      "webflow_v2\n",
      "webflow_v2\n",
      "webflow_v2\n",
      "webflow_v2\n",
      "wordpress\n",
      "youtube\n"
     ]
    }
   ],
   "source": [
    "for ia in INTEGRATION_ACTIONS:\n",
    "    print(ia['integration'])"
   ]
  },
  {
   "cell_type": "code",
   "execution_count": null,
   "id": "f5e8a474-0f30-4fac-badb-a8c00276ac0f",
   "metadata": {},
   "outputs": [],
   "source": []
  }
 ],
 "metadata": {
  "kernelspec": {
   "display_name": "airops",
   "language": "python",
   "name": "airops"
  },
  "language_info": {
   "codemirror_mode": {
    "name": "ipython",
    "version": 3
   },
   "file_extension": ".py",
   "mimetype": "text/x-python",
   "name": "python",
   "nbconvert_exporter": "python",
   "pygments_lexer": "ipython3",
   "version": "3.11.11"
  }
 },
 "nbformat": 4,
 "nbformat_minor": 5
}
