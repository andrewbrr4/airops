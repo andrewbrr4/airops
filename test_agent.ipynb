{
 "cells": [
  {
   "cell_type": "code",
   "execution_count": null,
   "id": "fdaad807-8fd2-4619-a559-7cd89a87c0da",
   "metadata": {},
   "outputs": [],
   "source": [
    "import os\n",
    "os.environ[\"MODEL_NAME\"] = \"gpt-4.1-mini\"\n",
    "\n",
    "from airops.evaluation import evaluate_agent"
   ]
  },
  {
   "cell_type": "code",
   "execution_count": null,
   "id": "06745858-9286-41da-9a0d-1877928c32fc",
   "metadata": {},
   "outputs": [],
   "source": [
    "evaluation_results = evaluate_agent()"
   ]
  },
  {
   "cell_type": "code",
   "execution_count": null,
   "id": "9f26c505-8822-4dbd-adec-8d845a9da64b",
   "metadata": {},
   "outputs": [],
   "source": []
  },
  {
   "cell_type": "code",
   "execution_count": null,
   "id": "c6b25269-928d-4808-920c-8d9903f26bbc",
   "metadata": {},
   "outputs": [],
   "source": []
  }
 ],
 "metadata": {
  "kernelspec": {
   "display_name": "airops",
   "language": "python",
   "name": "airops"
  },
  "language_info": {
   "codemirror_mode": {
    "name": "ipython",
    "version": 3
   },
   "file_extension": ".py",
   "mimetype": "text/x-python",
   "name": "python",
   "nbconvert_exporter": "python",
   "pygments_lexer": "ipython3",
   "version": "3.11.11"
  }
 },
 "nbformat": 4,
 "nbformat_minor": 5
}
