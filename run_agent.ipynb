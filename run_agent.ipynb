{
 "cells": [
  {
   "cell_type": "code",
   "execution_count": 1,
   "id": "0817359f-e7a3-412f-803b-763894b0c22f",
   "metadata": {},
   "outputs": [],
   "source": [
    "import os\n",
    "os.environ[\"MODEL_NAME\"] = \"gpt-4.1\"\n",
    "\n",
    "from airops.agents import run_integration_action_agent\n",
    "from airops.utils import get_sample_workflow_contexts"
   ]
  },
  {
   "cell_type": "code",
   "execution_count": 2,
   "id": "248ec11f-bfc0-4f68-9dff-dd299230edef",
   "metadata": {},
   "outputs": [
    {
     "data": {
      "text/plain": [
       "{'exposition': \"I selected the 'Create Spreadsheet' action from the Google Sheets integration because the user requested to create a Google Sheets spreadsheet containing all the URLs and keywords used in the workflow outputs. According to the integration action input schema, the required fields are a spreadsheet title and a JSON array of data to populate the sheet. The relevant data (URLs and keywords) can be extracted from the output of step_2, which contains a list of objects with 'Url' and 'Keyword' fields. Therefore, the configuration payload uses a liquid reference to {{step_2.output}} for the data, and a descriptive title is provided. This approach is justified by the input schema for the integration action, which expects a JSON array for the 'data' field and a string for the 'title' field.\",\n",
       " 'integration_action': {'integration': 'google_sheets',\n",
       "  'action': 'Create Spreadsheet'},\n",
       " 'action_config': {'dynamic': {'title': 'SEO URLs and Keywords',\n",
       "   'data': '{{step_2.output}}'}},\n",
       " 'langfuse_trace_id': 'fd92f842-92ba-4844-9432-5c605673c236'}"
      ]
     },
     "execution_count": 2,
     "metadata": {},
     "output_type": "execute_result"
    }
   ],
   "source": [
    "workflow_contexts = get_sample_workflow_contexts()\n",
    "\n",
    "workflow_context = workflow_contexts[0] # supply here\n",
    "user_request = 'create a google sheets spreadsheet of all the urls and keywords used here' # supply here\n",
    "\n",
    "run_integration_action_agent(workflow_context=workflow_context, user_request=user_request)"
   ]
  },
  {
   "cell_type": "code",
   "execution_count": null,
   "id": "078072cc-44ae-4837-b585-ab8c4908e3ea",
   "metadata": {},
   "outputs": [],
   "source": []
  },
  {
   "cell_type": "code",
   "execution_count": null,
   "id": "c830181f-3eaa-4f9b-935c-4353d5210f75",
   "metadata": {},
   "outputs": [],
   "source": []
  }
 ],
 "metadata": {
  "kernelspec": {
   "display_name": "airops",
   "language": "python",
   "name": "airops"
  },
  "language_info": {
   "codemirror_mode": {
    "name": "ipython",
    "version": 3
   },
   "file_extension": ".py",
   "mimetype": "text/x-python",
   "name": "python",
   "nbconvert_exporter": "python",
   "pygments_lexer": "ipython3",
   "version": "3.11.11"
  }
 },
 "nbformat": 4,
 "nbformat_minor": 5
}
