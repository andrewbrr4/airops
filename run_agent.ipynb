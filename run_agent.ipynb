{
 "cells": [
  {
   "cell_type": "code",
   "execution_count": null,
   "id": "0817359f-e7a3-412f-803b-763894b0c22f",
   "metadata": {},
   "outputs": [],
   "source": [
    "import os\n",
    "os.environ[\"MODEL_NAME\"] = \"gpt-4.1\"\n",
    "\n",
    "from airops.agents import run_integration_action_agent\n",
    "from airops.utils import get_sample_workflow_contexts"
   ]
  },
  {
   "cell_type": "code",
   "execution_count": null,
   "id": "248ec11f-bfc0-4f68-9dff-dd299230edef",
   "metadata": {},
   "outputs": [],
   "source": [
    "workflow_contexts = get_sample_workflow_contexts()\n",
    "\n",
    "workflow_context = workflow_contexts[0] # supply here\n",
    "user_request = 'create a google sheets spreadsheet of all the urls and keywords used here' # supply here\n",
    "\n",
    "run_integration_action_agent(workflow_context=workflow_context, user_request=user_request)"
   ]
  },
  {
   "cell_type": "code",
   "execution_count": null,
   "id": "078072cc-44ae-4837-b585-ab8c4908e3ea",
   "metadata": {},
   "outputs": [],
   "source": []
  },
  {
   "cell_type": "code",
   "execution_count": null,
   "id": "c830181f-3eaa-4f9b-935c-4353d5210f75",
   "metadata": {},
   "outputs": [],
   "source": []
  }
 ],
 "metadata": {
  "kernelspec": {
   "display_name": "airops",
   "language": "python",
   "name": "airops"
  },
  "language_info": {
   "codemirror_mode": {
    "name": "ipython",
    "version": 3
   },
   "file_extension": ".py",
   "mimetype": "text/x-python",
   "name": "python",
   "nbconvert_exporter": "python",
   "pygments_lexer": "ipython3",
   "version": "3.11.11"
  }
 },
 "nbformat": 4,
 "nbformat_minor": 5
}
