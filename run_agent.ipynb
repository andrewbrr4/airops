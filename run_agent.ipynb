{
 "cells": [
  {
   "cell_type": "code",
   "execution_count": null,
   "id": "0817359f-e7a3-412f-803b-763894b0c22f",
   "metadata": {},
   "outputs": [],
   "source": [
    "from airops.evaluation import create_test_cases\n",
    "from airops.agents import run_integration_action_agent\n",
    "\n",
    "TEST_CASES = create_test_cases('./eval/test_cases.joblib')"
   ]
  },
  {
   "cell_type": "code",
   "execution_count": null,
   "id": "248ec11f-bfc0-4f68-9dff-dd299230edef",
   "metadata": {},
   "outputs": [],
   "source": [
    "i= 0\n",
    "\n",
    "test_case = TEST_CASES[i]\n",
    "\n",
    "workflow_context = test_case['context']\n",
    "user_request = test_case['user_request']\n",
    "\n",
    "run_integration_action_agent(workflow_context=workflow_context, user_request=user_request)"
   ]
  },
  {
   "cell_type": "code",
   "execution_count": null,
   "id": "078072cc-44ae-4837-b585-ab8c4908e3ea",
   "metadata": {},
   "outputs": [],
   "source": []
  }
 ],
 "metadata": {
  "kernelspec": {
   "display_name": "airops",
   "language": "python",
   "name": "airops"
  },
  "language_info": {
   "codemirror_mode": {
    "name": "ipython",
    "version": 3
   },
   "file_extension": ".py",
   "mimetype": "text/x-python",
   "name": "python",
   "nbconvert_exporter": "python",
   "pygments_lexer": "ipython3",
   "version": "3.11.11"
  }
 },
 "nbformat": 4,
 "nbformat_minor": 5
}
